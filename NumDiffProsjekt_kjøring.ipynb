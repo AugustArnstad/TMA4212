{
 "cells": [
  {
   "cell_type": "markdown",
   "metadata": {},
   "source": [
    "### BS-equation, linear\n",
    "$$\n",
    "u_t - \\frac12 \\sigma^2 x^2 u_{xx} - r x u_x + c u = 0\n",
    "$$\n",
    "\n",
    "\n",
    "#### Boundary conditions\n",
    "##### At $x=0$:\n",
    "We find the ODE for $x=0$ to be\n",
    "\n",
    "$$\n",
    "u_t +cu = 0 \\implies \\frac{d}{dt}u = -cu \\implies u(0, t) = K \\exp(-ct),\n",
    "$$\n",
    "since $u(0, 0) = \\max(K-0, 0) = K$.\n",
    "\n",
    "##### At $x=R$:"
   ]
  },
  {
   "cell_type": "markdown",
   "metadata": {},
   "source": [
    "#### Forward Euler\n",
    "\n",
    "$$\n",
    "U^{n+1} = \n",
    "\\begin{bmatrix} \n",
    "\\beta_{1,0}^n & \\beta_{1,1}^n & 0 & \\dots & \\dots & 0 \\\\\n",
    "\\beta_{2,-1}^n & \\beta_{2,0}^n & \\beta_{2,1}^n & \\dots & \\dots & 0 \\\\\n",
    "0 & \\beta_{3,-1}^n & \\beta_{3,0}^n & \\beta_{3,1}^n & \\dots & 0 \\\\\n",
    "\\dots & \\dots &\\dots &\\dots &\\dots & \\dots\\\\\n",
    "\\dots & \\dots &\\dots &\\dots &\\dots & \\beta_{M-2,1}^n\\\\\n",
    "0 & \\dots & \\dots & \\dots & \\beta_{M-1,-1}^n & \\beta_{M-1,0}^n \\\\\n",
    "\\end{bmatrix} \\begin{bmatrix} U_1^n \\\\ \\vdots \\\\ \\vdots \\\\ \\vdots  \\\\ U_{M-1}^n \\end{bmatrix} +  \\begin{bmatrix} g_0^n \\beta_{1,-1}^n \\\\ 0 \\\\ \\vdots \\\\ 0 \\\\ g_1^n \\beta_{M-1,1}^n  \\end{bmatrix}\n",
    "$$\n",
    "\n",
    "\n",
    "$$\n",
    "\\beta_{m,-1}^n = \\frac{k \\sigma^2m^2}{2} - \\frac{krm}{2}$$\n",
    "$$\n",
    "\\beta_{m,0}^n = 1- k \\sigma^2 m^2 - kc \n",
    "$$\n",
    "$$\n",
    "\\beta_{m,1}^n = \\frac{k \\sigma^2m^2}{2} + \\frac{krm}{2} \n",
    "$$"
   ]
  },
  {
   "cell_type": "markdown",
   "metadata": {},
   "source": [
    "### Problem 1 b)\n",
    "\n",
    "#### Monotone\n",
    "A numerical scheme is monotone if it can be written as \n",
    "\n",
    "$$\n",
    "\\alpha_m^{n+1} U_m^{n+1} - \\sum_l \\sum_{k \\leq n+1} \\beta_{m,l}^k U_{m+l}^k + \\gamma_m^n = 0,\n",
    "$$\n",
    "where $(k,l) \\neq (n+1, 0)$ and $ \\beta_{m,l}^k \\geq 0 $ and $\\alpha_m^{n+1}\\geq \\sum\\beta_{m,l}^k\\geq 0 $ and $\\gamma_m^n \\in \\mathbb R$. Since this is the definition of a scheme being monotone, we must find the neccesary conditions.\n",
    "In our case, we have for Forward Euler $k=n$ and $l \\in \\{-1,0,1\\}$:\n",
    "$$\n",
    "U_m^{n+1} - \\underbrace{\\bigg( \\frac{k \\sigma^2m^2}{2} - \\frac{krm}{2} \\bigg)}_{\\beta_{m,-1}^n} U_{m-1}^{n}\n",
    "- \\underbrace{\\bigg( 1- k \\sigma^2 m^2 - kc \\bigg)}_{\\beta_{m, 0}^n} U_{m}^{n} - \\underbrace{\\bigg( \\frac{k \\sigma^2m^2}{2} + \\frac{krm}{2}  \\bigg)}_{\\beta_{m,1}^n} U_{m+1}^{n} = 0\n",
    "$$"
   ]
  },
  {
   "cell_type": "markdown",
   "metadata": {},
   "source": [
    "Clearly, $\\alpha_m^{n+1}=1$ and $c_M^n=g_1 \\beta_{M-1,1}^n, c_0^n = g_0 \\beta_{1,-1}^n$ and $c_m^n = 0, m=2,..., M-2$. We must now require $\\beta_{m,-1}^n, \\beta_{m,0}^n, \\beta_{m,1}^n \\geq 0 $.\n",
    "\n",
    "\n",
    "We start with $\\beta_{m,-1}^n$\n",
    "\n",
    "$$ \n",
    "\\beta_{m,-1}^n = \\frac{k \\sigma^2m^2}{2} - \\frac{krm}{2} \\geq 0 \\implies \\sigma^2m^2 - rm \\geq 0 \\iff \\sigma^2m \\geq r\n",
    "$$\n",
    "since $m >0 $. We must require\n",
    "\n",
    "$$\n",
    "\\sigma^2 m \\geq r , \\qquad m = 1,2, \\dots , M-1 \\implies \\sigma^2 \\geq r.\n",
    "$$\n",
    "which indeed is true with the given assumtion that $\\sigma^2 > r$."
   ]
  },
  {
   "cell_type": "markdown",
   "metadata": {},
   "source": [
    "We proceed with $\\beta_{m,0}^n$,\n",
    "$$\n",
    "\\beta_{m,0}^n =  1- k \\sigma^2 m^2 - kc \\geq 0, \\quad m=1, \\dots, M-1\n",
    "$$\n",
    "\n",
    "We must require this inequality to hold. This condition is a CFL condition."
   ]
  },
  {
   "cell_type": "markdown",
   "metadata": {},
   "source": [
    "Finally, we have \n",
    "$$\n",
    "\\beta_{m,1}^n = \\frac{k \\sigma^2m^2}{2} + \\frac{krm}{2} > 0,\n",
    "$$\n",
    "which is obvious, since all quantities are positive."
   ]
  },
  {
   "cell_type": "markdown",
   "metadata": {},
   "source": [
    "We also need that $\\alpha_m^{n+1} \\geq \\sum_{i=-1}^1 \\beta_{m,i}^n \\geq 0 $, which we write out as \n",
    "\n",
    "$$\n",
    "\\alpha_m^{n+1}= 1 \\geq \\beta_{m,-1}^n + \\beta_{m,0}^n + \\beta_{m,1}^n = \\frac{k \\sigma^2m^2}{2} - \\frac{krm}{2} + 1- k \\sigma^2 m^2 - kc + \\frac{k \\sigma^2m^2}{2} + \\frac{krm}{2} = 1 - kc\n",
    "$$"
   ]
  },
  {
   "cell_type": "markdown",
   "metadata": {},
   "source": [
    "$$\n",
    "\\iff 0 \\geq  - k  c \n",
    "$$ which is true, since $k, c>0$. And $\\sum_{i=-1}^1 \\beta_{m,i}^n \\geq 0 $ is clearly true. Furthermore, $\\gamma_m^n \\in \\mathbb R$.\n",
    "\n",
    "With the following requirements, the Forward Euler scheme is monotone:\n",
    "\n",
    "- $\\sigma^2 > r$\n",
    "- $1- k \\sigma^2 m^2 - kc \\geq 0, \\quad m=1, \\dots, M-1 $"
   ]
  },
  {
   "cell_type": "markdown",
   "metadata": {},
   "source": [
    "### The Crank-Nicolson scheme"
   ]
  },
  {
   "cell_type": "markdown",
   "metadata": {},
   "source": [
    "$$\n",
    "u_t - \\frac12 \\sigma^2 x^2 u_{xx} - r x u_x + c u\n",
    "$$\n",
    "$$\n",
    "\\approx \\frac{U_m^{n+1} - U_m^n }{k} - \\frac12 \\sigma^2 (hm)^2 \\frac12 \\frac{ U_{m+1}^n -  2U_{m}^n + U_{m-1}^n + U_{m+1}^{n+1} -  2U_{m}^{n+1} + U_{m-1}^{n+1} }{h^2}  - rm \\frac{  U_{m+1}^n - U_{m-1}^n + U_{m+1}^{n+1} - U_{m-1}^{n+1}}{4}  +  c \\frac12 (U_m^n + U_m^{n+1}) = 0\n",
    "$$\n",
    "\n"
   ]
  },
  {
   "cell_type": "markdown",
   "metadata": {},
   "source": [
    "$$\n",
    "\\implies U_m^{n+1} - U_m^n  -  k \\sigma^2 m^2  \\frac{ U_{m+1}^n -  2U_{m}^n + U_{m-1}^n + U_{m+1}^{n+1} -  2U_{m}^{n+1} + U_{m-1}^{n+1} }{4}  - rmk \\frac{  U_{m+1}^n - U_{m-1}^n + U_{m+1}^{n+1} - U_{m-1}^{n+1}}{4}  + ck \\frac12 (U_m^n + U_m^{n+1}) = 0\n",
    "$$"
   ]
  },
  {
   "cell_type": "markdown",
   "metadata": {},
   "source": [
    "\n",
    "\n",
    "$$\n",
    "\\implies \\bigg( - \\frac{k \\sigma^2 m^2}{4} - \\frac{rmk}{4} \\bigg) U_{m+1}^{n+1} + \n",
    "\\bigg(1 + \\frac{k \\sigma^2 m^2}{2} + \\frac12 ck \\bigg)U_{m}^{n+1} + \n",
    "\\bigg(- \\frac{k \\sigma^2 m^2}{4} + \\frac{rmk}{4}  \\bigg) U_{m-1}^{n+1}\n",
    "$$\n",
    "$$\n",
    "+\n",
    "\\bigg(- \\frac{k \\sigma^2 m^2}{4} - \\frac{rmk}{4} \\bigg) U_{m+1}^{n} +\n",
    "\\bigg(-1 + \\frac{k \\sigma^2 m^2}{2} + \\frac12 ck \\bigg)U_{m}^{n} +\n",
    "\\bigg(- \\frac{k \\sigma^2 m^2}{4} + \\frac{rmk}{4}  \\bigg) U_{m-1}^{n} = 0\n",
    "$$"
   ]
  },
  {
   "cell_type": "markdown",
   "metadata": {},
   "source": [
    "By multiplying the equation with $-1$, we get the scheme"
   ]
  },
  {
   "cell_type": "markdown",
   "metadata": {},
   "source": [
    "\n",
    "$$\n",
    "\\implies \n",
    "\\underbrace{\\bigg( 1  + \\frac{k \\sigma^2 m^2}{2} + \\frac12 ck  \\bigg)}_{\\alpha_{m}^{n+1}} U_{m}^{n+1}\n",
    "-\\underbrace{\\bigg( \\frac{k \\sigma^2 m^2}{4} + \\frac{rmk}{4} \\bigg)}_{\\beta_{m,1}^{n+1}} U_{m+1}^{n+1} \n",
    "-\\underbrace{\\bigg( \\frac{k \\sigma^2 m^2}{4} - \\frac{rmk}{4}  \\bigg)}_{\\beta_{m,-1}^{n+1} }U_{m-1}^{n+1}\n",
    "$$\n",
    "$$\n",
    "-\\underbrace{\\bigg( \\frac{k \\sigma^2 m^2}{4} + \\frac{rmk}{4} \\bigg)}_{\\beta_{m,1}^n } U_{m+1}^{n} \n",
    "-\\underbrace{\\bigg(1 - \\frac{k \\sigma^2 m^2}{2} - \\frac12 ck \\bigg)}_{ \\beta_{m,0}^n }U_{m}^{n} \n",
    "-\\underbrace{\\bigg( \\frac{k \\sigma^2 m^2}{4} - \\frac{rmk}{4}  \\bigg)}_{\\beta_{m,-1}^n } U_{m-1}^{n} = 0, \\quad m=1, \\dots, M-1\n",
    "$$"
   ]
  },
  {
   "cell_type": "markdown",
   "metadata": {},
   "source": [
    "We write out the full Crank-Nicolson scheme in matrix form:"
   ]
  },
  {
   "cell_type": "markdown",
   "metadata": {},
   "source": [
    "$$\n",
    "\\begin{bmatrix} \n",
    "\\alpha_{1}^{n+1} & -\\beta_{1,1}^{n+1} & 0 & \\dots & \\dots & 0 \\\\\n",
    "-\\beta_{2,-1}^{n+1} & \\alpha_{2}^{n+1} & -\\beta_{2,1}^{n+1} & \\dots & \\dots & 0 \\\\\n",
    "0 &- \\beta_{3,-1}^{n+1} & \\alpha_{3}^{n+1} &- \\beta_{3,1}^{n+1} & \\dots & 0 \\\\\n",
    "\\dots & \\dots &\\dots &\\dots &\\dots & \\dots\\\\\n",
    "\\dots & \\dots &\\dots &\\dots &\\dots & -\\beta_{M-2,1}^{n+1}\\\\\n",
    "0 & \\dots & \\dots & \\dots & -\\beta_{M-1,-1}^{n+1} & \\alpha_{M-1}^{n+1} \\\\\n",
    "\\end{bmatrix} \\begin{bmatrix} U_1^{n+1} \\\\ \\vdots \\\\ \\vdots \\\\ \\vdots  \\\\ U_{M-1}^{n+1} \\end{bmatrix} = \n",
    "\\begin{bmatrix} \n",
    "\\beta_{1,0}^n & \\beta_{1,1}^n & 0 & \\dots & \\dots & 0 \\\\\n",
    "\\beta_{2,-1}^n & \\beta_{2,0}^n & \\beta_{2,1}^n & \\dots & \\dots & 0 \\\\\n",
    "0 & \\beta_{3,-1}^n & \\beta_{3,0}^n & \\beta_{3,1}^n & \\dots & 0 \\\\\n",
    "\\dots & \\dots &\\dots &\\dots &\\dots & \\dots\\\\\n",
    "\\dots & \\dots &\\dots &\\dots &\\dots & \\beta_{M-2,1}^n\\\\\n",
    "0 & \\dots & \\dots & \\dots & \\beta_{M-1,-1}^n & \\beta_{M-1,0}^n \\\\\n",
    "\\end{bmatrix} \\begin{bmatrix} U_1^n \\\\ \\vdots \\\\ \\vdots \\\\ \\vdots  \\\\ U_{M-1}^n \\end{bmatrix} +  \\begin{bmatrix} g_0^n \\beta_{1,-1}^n + g_0^{n+1}\\beta_{1,-1}^{n+1}  \\\\ 0 \\\\ \\vdots \\\\ 0 \\\\ g_1^n \\beta_{M-1,1}^n  + g_1^{n+1} \\beta_{M-1,1}^{n+1} \\end{bmatrix}\n",
    "$$"
   ]
  },
  {
   "cell_type": "markdown",
   "metadata": {},
   "source": [
    "Let's find out if this scheme is monotone. As with Forward Euler, we need to be able to write the scheme as\n",
    "$$\n",
    "\\alpha_m^{n+1} U_m^{n+1} - \\sum_l \\sum_{k \\leq n+1} \\beta_{m,l}^k U_{m+l}^k + \\gamma_m^n = 0,\n",
    "$$\n",
    "where $(k,l) \\neq (n+1, 0)$ and $ \\beta_{m,l}^k \\geq 0 $ and $\\alpha_m^{n+1}\\geq \\sum\\beta_{m,l}^k\\geq 0 $ and $\\gamma_m^n \\in \\mathbb R$."
   ]
  },
  {
   "cell_type": "markdown",
   "metadata": {},
   "source": [
    "Let us first find out if $ \\beta_{m,l}^k \\geq 0, \\quad l= -1, 0, 1$ and $k=n, n+1. $ We have five $\\beta$-values to inspect; $\\beta_{m,1}^{n+1}, \\beta_{m,-1}^{n+1}, \\beta_{m,-1}^{n}, \\beta_{m,0}^{n}, \\beta_{m,1}^{n}$.\n",
    "\n",
    "$\\beta_{m,1}^{n+1}$ and $\\beta_{m,1}^n$:\n",
    "\n",
    "$$\n",
    "\\beta_{m,1}^n= \\beta_{m,1}^{n+1} =  \\frac{k \\sigma^2 m^2}{4} + \\frac{rmk}{4} \\geq 0, \\quad m=1, \\dots , M-1\n",
    "$$\n",
    "which clearly holds, since all quantities are non-negative.\n"
   ]
  },
  {
   "cell_type": "markdown",
   "metadata": {},
   "source": [
    "$\\beta_{m,-1}^{n+1}$ and $\\beta_{m,-1}^{n}$:\n",
    "\n",
    "$$\n",
    "\\beta_{m,-1}^{n} = \\beta_{m,-1}^{n+1}=  \\frac{k \\sigma^2 m^2}{4} - \\frac{rmk}{4} \\geq 0, m=1,...,M-1 \\iff  \\sigma^2   \\geq   r,\n",
    "$$\n",
    "which holds by the assumtion that $\\sigma^2 > r$."
   ]
  },
  {
   "cell_type": "markdown",
   "metadata": {},
   "source": [
    "$\\beta_{m,1}^n$:\n",
    "$$\n",
    "\\beta_{m,0}^n = 1 - \\frac{k \\sigma^2 m^2}{2} - \\frac12 ck \\geq 0 \\quad m=1,...,M-1\n",
    "$$\n",
    "\n",
    "\n",
    "Thus, with the mentioned requirements, all of the $\\beta$-values are non-negative.\n",
    "\n"
   ]
  },
  {
   "cell_type": "markdown",
   "metadata": {},
   "source": [
    "Next, let us consider $\\alpha_m^{n+1}\\geq \\sum\\beta_{m,l}^k\\geq 0 $:\n",
    "\n",
    "$$\n",
    "\\alpha_m^{n+1} \\geq \\beta_{m,1}^{n+1}+ \\beta_{m,-1}^{n+1}+ \\beta_{m,-1}^{n}+ \\beta_{m,0}^{n}+ \\beta_{m,1}^{n}\n",
    "$$\n",
    "\n",
    "$$\n",
    "\\iff 1  + \\frac{k \\sigma^2 m^2}{2} + \\frac12 ck  \\geq 2 \\bigg( \\frac{k \\sigma^2 m^2}{4} + \\frac{rmk}{4} \\bigg) \n",
    "+ 2 \\bigg( \\frac{k \\sigma^2 m^2}{4} - \\frac{rmk}{4} \\bigg)  + 1 - \\frac{k \\sigma^2 m^2}{2} - \\frac12 ck = \n",
    "1 + \\frac{k \\sigma^2 m^2}{2} - \\frac12 ck\n",
    "$$\n",
    "\n",
    "$$\n",
    "\\iff  \\frac12 ck \\geq  - \\frac12 ck\n",
    "$$\n",
    "which clearly holds. Again, $ \\sum\\beta_{m,l}^k\\geq 0 $ clearly holds, since all $\\beta$'s are non-negative. Furthermore, $\\gamma_m^n \\in \\mathbb R$.\n",
    "\n",
    "Thus, the Crank-Nicolson scheme is monotone if we require the following:\n",
    "- $\\sigma^2 > r$\n",
    "- $1 - \\frac{k \\sigma^2 m^2}{2} - \\frac12 ck \\geq 0 , \\quad m=1, \\dots, M-1 $\n"
   ]
  },
  {
   "cell_type": "markdown",
   "metadata": {},
   "source": [
    "### The Backward Euler scheme"
   ]
  },
  {
   "cell_type": "markdown",
   "metadata": {},
   "source": [
    "$$\n",
    "u_t - \\frac12 \\sigma^2 x^2 u_{xx} - r x u_x + c u\n",
    "$$\n",
    "$$\n",
    "\\approx \\frac{U_m^{n+1} - U_m^n }{k} - \\frac12 \\sigma^2 (hm)^2 \\frac{ U_{m+1}^{n+1} -  2U_{m}^{n+1} + U_{m-1}^{n+1} }{h^2}  - rm \\frac{ U_{m+1}^{n+1} - U_{m-1}^{n+1}}{2}  +  c  U_m^{n+1} = 0\n",
    "$$\n",
    "$$\n",
    "\\implies \\bigg(1 + k\\sigma^2 m^2 + kc \\bigg) U_m^{n+1} + \\bigg( - \\frac{k \\sigma^2 m^2}{2} + \\frac{rmk}{2} \\bigg) U_{m-1}^{n+1} + \\bigg( -\\frac{k\\sigma^2 m^2 }{2} - \\frac{rmk}{2} \\bigg)U_{m+1}^{n+1} + U_m^n (-1) = 0\n",
    "$$\n",
    "\n",
    "$$\n",
    "\\implies \\underbrace{ \\bigg(1 + k\\sigma^2 m^2 + kc \\bigg)}_{\\alpha_{m}^{n+1}} U_m^{n+1} - \n",
    "\\underbrace{ \\bigg(  \\frac{k \\sigma^2 m^2}{2} - \\frac{rmk}{2} \\bigg)}_{\\beta_{m, -1}^{n+1} } U_{m-1}^{n+1} - \n",
    "\\underbrace{ \\bigg( \\frac{k\\sigma^2 m^2 }{2} + \\frac{rmk}{2} \\bigg)}_{\\beta_{m, 1}^{n+1} }U_{m+1}^{n+1} - \\underbrace{1}_{\\beta_{m,0}^n} U_m^n = 0\n",
    "$$\n"
   ]
  },
  {
   "cell_type": "markdown",
   "metadata": {},
   "source": [
    "$$\n",
    "\\begin{bmatrix} \n",
    "\\alpha_{1}^{n+1} & -\\beta_{1,1}^{n+1} & 0 & \\dots & \\dots & 0 \\\\\n",
    "-\\beta_{2,-1}^{n+1} & \\alpha_{2}^{n+1} &- \\beta_{2,1}^{n+1} & \\dots & \\dots & 0 \\\\\n",
    "0 &- \\beta_{3,-1}^{n+1} & \\alpha_{3}^{n+1} & -\\beta_{3,1}^{n+1} & \\dots & 0 \\\\\n",
    "\\dots & \\dots &\\dots &\\dots &\\dots & \\dots\\\\\n",
    "\\dots & \\dots &\\dots &\\dots &\\dots &- \\beta_{M-2,1}^{n+1}\\\\\n",
    "0 & \\dots & \\dots & \\dots & -\\beta_{M-1,-1}^{n+1} & \\alpha_{M-1}^{n+1} \\\\\n",
    "\\end{bmatrix} \\begin{bmatrix} U_1^{n+1} \\\\ \\vdots \\\\ \\vdots \\\\ \\vdots  \\\\ U_{M-1}^{n+1} \\end{bmatrix} = \n",
    " \\begin{bmatrix} U_1^n \\\\ \\vdots \\\\ \\vdots \\\\ \\vdots  \\\\ U_{M-1}^n \\end{bmatrix} +  \n",
    " \\begin{bmatrix} g_0^{n+1} \\beta_{1,-1}^{n+1}  \\\\ 0 \\\\ \\vdots \\\\ 0 \\\\ g_1^{n+1} \\beta_{M-1,1}^{n+1} \\end{bmatrix}\n",
    "$$"
   ]
  },
  {
   "cell_type": "markdown",
   "metadata": {},
   "source": [
    "Let us as usual require that all $\\beta$-values are non-negative:"
   ]
  },
  {
   "cell_type": "markdown",
   "metadata": {},
   "source": [
    "$$\n",
    "\\beta_{m, -1}^{n+1}=  \\frac{k \\sigma^2 m^2}{2} - \\frac{rmk}{2} \\geq 0, m=1, ..., M-1 \\iff \\sigma^2 \\geq r\n",
    "$$\n",
    "which holds for $\\sigma^2 > r$.\n",
    "\n",
    "$$\n",
    "\\beta_{m, 1}^{n+1} = \\frac{k\\sigma^2 m^2 }{2} + \\frac{rmk}{2} \\geq 0, \n",
    "$$\n",
    "\n",
    "which also clearly holds, since all quantities are non-negative.\n",
    "$$\n",
    "\\beta_{m,0}^n = 1 \\geq 0.\n",
    "$$\n",
    "\n",
    "Now, also $\\alpha_m^{n+1}\\geq \\sum\\beta_{m,l}^k\\geq 0 $ must hold:\n",
    "\n",
    "$$\n",
    "\\alpha_m^{n+1}\\geq \\sum\\beta_{m,l}^k\\geq 0 \\iff 1 + k\\sigma^2 m^2 + kc \\geq \\frac{k \\sigma^2 m^2}{2} - \\frac{rmk}{2} + \\frac{k\\sigma^2 m^2 }{2} + \\frac{rmk}{2} + 1  = k \\sigma^2 m^2 + 1\n",
    "$$\n",
    "\n",
    "$$\n",
    "\\iff kc \\geq 0,\n",
    "$$\n",
    "\n",
    "which is true, since $k, c >0$. Again, clearly $\\sum\\beta_{m,l}^k =k \\sigma^2 m^2 + 1 \\geq 0$. Furthermore, $\\gamma_m^n \\in \\mathbb R$.\n",
    "\n",
    "Thus, Backward Euler is monotone, and we only need to require\n",
    "\n",
    "- $\\sigma^2 > r$."
   ]
  },
  {
   "cell_type": "markdown",
   "metadata": {},
   "source": [
    "### Problem 1 c)\n",
    "We now want to show $L^{\\infty}$-stability on the Forward Euler method. We have that \n",
    "\n",
    "$$\n",
    "U^{n+1} = C U^{n} + q^n,\n",
    "$$\n",
    "where\n",
    "$$\n",
    "C = \n",
    "\\begin{bmatrix} \n",
    "\\beta_{1,0}^n & \\beta_{1,1}^n & 0 & \\dots & \\dots & 0 \\\\\n",
    "\\beta_{2,-1}^n & \\beta_{2,0}^n & \\beta_{2,1}^n & \\dots & \\dots & 0 \\\\\n",
    "0 & \\beta_{3,-1}^n & \\beta_{3,0}^n & \\beta_{3,1}^n & \\dots & 0 \\\\\n",
    "\\dots & \\dots &\\dots &\\dots &\\dots & \\dots\\\\\n",
    "\\dots & \\dots &\\dots &\\dots &\\dots & \\beta_{M-2,1}^n\\\\\n",
    "0 & \\dots & \\dots & \\dots & \\beta_{M-1,-1}^n & \\beta_{M-1,0}^n \\\\\n",
    "\\end{bmatrix}\n",
    "$$\n",
    "and\n",
    "$$\n",
    "\\beta_{m,-1}^n = \\frac{k \\sigma^2m^2}{2} - \\frac{krm}{2}$$\n",
    "$$\n",
    "\\beta_{m,0}^n = 1- k \\sigma^2 m^2 - kc \n",
    "$$\n",
    "$$\n",
    "\\beta_{m,1}^n = \\frac{k \\sigma^2m^2}{2} + \\frac{krm}{2} \n",
    "$$\n",
    "A sufficient criterion for stability is that if there exists a $\\mu \\geq 0$ independent of $h$ and $k$ such that\n",
    "\n",
    "$$\n",
    "||C||_{\\infty} \\leq 1 + \\mu k,\n",
    "$$\n",
    "then the scheme is stable."
   ]
  },
  {
   "cell_type": "markdown",
   "metadata": {},
   "source": [
    "Now, $||A||_{\\infty} = \\max_i \\sum_j |A_{ij}| $, and since $C_{ij} \\geq 0,  \\forall i,j$, we get\n",
    "\n",
    "$$\n",
    "||C||_{\\infty} = \\max_m \\sum_{i=-1}^1 | \\beta_{m,i}^n| = \\max_m \\sum_{i=-1}^1  \\beta_{m,i}^n = \n",
    "\\max_m \\bigg( \\frac{k \\sigma^2m^2}{2} - \\frac{krm}{2} + 1- k \\sigma^2 m^2 - kc + \\frac{k \\sigma^2m^2}{2} + \\frac{krm}{2} \\bigg) =  1 - kc \\leq 1 \\leq 1 + \\mu k\n",
    "$$\n",
    "for any $\\mu \\geq 0$. Thus, the scheme is $L^{\\infty}$-stable."
   ]
  },
  {
   "cell_type": "markdown",
   "metadata": {},
   "source": [
    "### Problem 1 d)"
   ]
  },
  {
   "cell_type": "markdown",
   "metadata": {},
   "source": [
    "We are now looking to find the truncation error. We know that we can write\n",
    "\n",
    "$$\n",
    "\\tau(h, k) = A_h u - \\vec F = \\underbrace{ \\frac{u_m^{n+1} -  u_m^{n} }{k} - \\frac12 \\sigma^2 x_m^2 \\frac{u_{m+1}^n - 2u_m^n + u_{m-1}^n }{h^2} - rx_m \\frac{u_{m+1}^n - u_{m-1}^n}{2h} + cu_m^n}_{A_h u} - \\underbrace{\\bigg( u_{t,m}^n - \\frac12 \\sigma^2 x_m^2 u_{xx, m}^n - rx_m u_{x,m}^n + cu_m^n \\bigg)}_{\\vec F}\n",
    "$$"
   ]
  },
  {
   "cell_type": "markdown",
   "metadata": {},
   "source": [
    "and we taylor expand in space and time"
   ]
  },
  {
   "cell_type": "markdown",
   "metadata": {},
   "source": [
    "$$\n",
    "=\\frac{u_m^{n} + k u_{t, m}^n + \\frac{k^2}{2} u_{tt, m}^n + O(k^3) - u_m^{n}}{k} - \n",
    "\\frac12 \\sigma^2 x_m^2 \\frac{ [u_{m}^n + h u_{x,m}^n + \\frac{h^2}{2}u_{xx,m}^n +  \n",
    "\\frac{h^3}{3!}u_{3x,m}^n + \\frac{h^4}{4!}u_{4x,m}^n + O(h^5)] - 2u_m^n + \n",
    "[u_{m}^n - h u_{x,m}^n + \\frac{h^2}{2}u_{xx,m}^n -  \n",
    "\\frac{h^3}{3!}u_{3x,m}^n + \\frac{h^4}{4!}u_{4x,m}^n + O(h^5) ]\n",
    "}{h^2} - \n",
    "rx_m \\frac{[u_{m}^n + h u_{x,m}^n + \\frac{h^2}{2}u_{xx,m}^n +  \n",
    "\\frac{h^3}{3!}u_{3x,m}^n + O(h^4)] - [u_{m}^n - h u_{x,m}^n + \\frac{h^2}{2}u_{xx,m}^n -  \n",
    "\\frac{h^3}{3!}u_{3x,m}^n + O(h^4)]}{2h} + cu_m^n - \\bigg( u_{t,m}^n - \\frac12 \\sigma^2 x_m^2 u_{xx, m}^n - rx_m u_{x,m}^n + cu_m^n \\bigg)\n",
    "$$\n",
    "$$\n",
    "=\\frac{ k u_{t, m}^n + \\frac{k^2}{2} u_{tt, m}^n + O(k^3)}{k} - \n",
    "\\frac12 \\sigma^2 x_m^2 \\frac{ h^2u_{xx,m}^n +  \n",
    "\\frac{h^4}{12}u_{4x,m}^n + O(h^5) \n",
    "}{h^2} - \n",
    "rx_m \\frac{ 2h u_{x,m}^n  +  \n",
    "\\frac{h^3}{3}u_{3x,m}^n + O(h^4)}{2h} + cu_m^n - \\bigg( u_{t,m}^n - \\frac12 \\sigma^2 x_m^2 u_{xx, m}^n - rx_m u_{x,m}^n + cu_m^n \\bigg)\n",
    "$$\n",
    "$$\n",
    "=u_{t, m}^n + \\frac{k}{2} u_{tt, m}^n + O(k^2) - \n",
    "\\frac12 \\sigma^2 x_m^2 \\big(u_{xx,m}^n +  \n",
    "\\frac{h^2}{12}u_{4x,m}^n + O(h^3) \\big)\n",
    "- \n",
    "rx_m  \\big( u_{x,m}^n  +  \n",
    "\\frac{h^2}{6}u_{3x,m}^n + O(h^3)\\big) + cu_m^n - \\bigg( u_{t,m}^n - \\frac12 \\sigma^2 x_m^2 u_{xx, m}^n - rx_m u_{x,m}^n + cu_m^n \\bigg)\n",
    "$$\n",
    "and by letting $x_m=mh$, we get\n",
    "$$\n",
    "= \\frac{k}{2} u_{tt, m}^n + O(k^2) - \n",
    "\\frac12 \\sigma^2 x_m^2 \\big(  \n",
    "\\frac{h^2}{12}u_{4x,m}^n + O(h^3) \\big)\n",
    "- \n",
    "rx_m  \\big( u_{x,m}^n  +  \n",
    "\\frac{h^2}{6}u_{3x,m}^n + O(h^3)\\big) + cu_m^n - \\bigg(  - rx_m u_{x,m}^n + cu_m^n \\bigg)\n",
    "$$"
   ]
  },
  {
   "cell_type": "code",
   "execution_count": null,
   "metadata": {},
   "outputs": [],
   "source": []
  },
  {
   "cell_type": "markdown",
   "metadata": {},
   "source": [
    "$$\n",
    "\\tau (h, k) = \\frac{k}{2} u_{tt, m}^n - rm\\frac{h^3}{6}u_{3x,m}^n + O(h^4 + k^2)\n",
    "$$"
   ]
  }
 ],
 "metadata": {
  "kernelspec": {
   "display_name": "Python 3",
   "language": "python",
   "name": "python3"
  },
  "language_info": {
   "codemirror_mode": {
    "name": "ipython",
    "version": 3
   },
   "file_extension": ".py",
   "mimetype": "text/x-python",
   "name": "python",
   "nbconvert_exporter": "python",
   "pygments_lexer": "ipython3",
   "version": "3.8.5"
  }
 },
 "nbformat": 4,
 "nbformat_minor": 4
}
